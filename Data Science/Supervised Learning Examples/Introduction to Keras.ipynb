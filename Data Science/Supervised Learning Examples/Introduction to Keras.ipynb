{
 "cells": [
  {
   "cell_type": "code",
   "execution_count": 15,
   "metadata": {},
   "outputs": [],
   "source": []
  },
  {
   "cell_type": "markdown",
   "metadata": {},
   "source": [
    "<center><h1>Building Deep Neural Networks in Keras</h1></center>\n",
    "<h3> </h3>\n",
    "<center><img src=\"https://s3.amazonaws.com/keras.io/img/keras-logo-2018-large-1200.png\" height=50% width = 50%>\n",
    "</center>\n",
    "\n",
    "<h3>About this tutorial </h3>\n",
    "\n",
    "In this tutorial, we'll build our first Deep Neural Network using the <a href=\"https://keras.io/\">Keras Library</a>. In this tutorial, we'll use a basic deep neural network to build an image classifier that can correctly classify handwritten digits.  Along the way, we'll get some practice using numpy to vectorize our inputs and make sure everything is the correct shape.  \n",
    "\n",
    "\n",
    "<h3>About Keras</h3>\n",
    "Keras is a cutting-edge Deep Learning Library that provides a clean, high-level API that makes creating Deep Neural Networks easy.  Keras is an open-source project run by Francois Chollet, an AI researcher at Google.  The main benefit of Keras is that it is fast and easy to use, without sacrificing power.  Keras achieves this by acting as a frontend to lower-level libraries such as Tensorflow or Theano.  Tensorflow is the default backend, although you can switch it CNTK or Theano (although, as of this writing, Theano is no longer an active library).  Keras is usually the first library engineers reach for when prototyping a solution, since it's fast and easy to work in.  \n",
    "<br>\n",
    "Keras works by allowing users to specify the architecture and characteristics of their neural network, and let Keras do all the heavy lifting.  Typically, each layer only takes one line of code.  Keras also supports advanced architectures, such as Convolutional Neural Networks, Recurrent Neural Networks, and advanced models that even combine the two.  \n",
    "<br>\n",
    "Keras comes with full installation instructions on its main page, <a href=https://.keras.io>Keras.io</a>.\n",
    "</br>\n",
    "to install keras in bash, simply run `sudo pip install keras`, or, in anaconda, `conda install -c conda-forge keras`.\n",
    "<br>\n",
    "<br>\n",
    "Side note: I highly recommend Francois's blog, <a href=\"https://blog.keras.io/author/francois-chollet.html\">The Keras Blog</a>.  It's filled with great content that any machine learning aficionado will find interesting!\n",
    "<br>\n",
    "<h3>About Our Data Set</h3>\n",
    "<br>\n",
    "For this tutorial, we'll be making use of the classic MNIST data set.  This is a collection of 60,000 black-and-white, 28px x 28px images of handwritten digits 0-9, as well as labels of the number represented in each image.\n",
    "<br>\n",
    "<br>\n",
    "Let's get started!\n",
    "\n",
    "<center><h2>Importing what we need</h2></center>\n",
    "\n",
    "To start off, we'll need to import everything we'll need from Keras. Keras is a large library, so rather than import all of it, we'll grab only what we need.  \n",
    "\n",
    "`from keras.models import Sequential` This is the model we'll be building.  When we add layers, we'll be adding it to our Sequential object.\n",
    "<br>\n",
    "`from keras.layers import Dense`  This is the standard \"Dense\" layer, where all neurons in the layer are fully-connected to every neuron in the layers in before and after this layer.  You may have also heard of these layers referred to as \"fully-connected\" or \"affine\" layers.\n",
    "<br>\n",
    "`from keras.optimizers import SGD`  In order to train a neural network through backpropagation, we'll need an optimizer to do the heavy-lifting.  Keras provides many options for optimizers, but for this tutorial we'll use the standard Stochastic Gradient Descent optimizer.  \n",
    "\n",
    "`from keras.datasets import mnist`  Finally, we'll import our data set.  Keras comes pre-loaded with the most commonly used data sets in Machine Learning and Deep Learning.  Rather than having to download and prep the data sets on our own, we can use keras to save us time!\n",
    "\n",
    "`import numpy as np` Numpy is the standard numerical computation library in Python.  We'll use it to reshape our images into a format that our model can use.\n",
    "\n",
    "Run the cell below to run all our import statements. (SHIFT + ENTER)"
   ]
  },
  {
   "cell_type": "code",
   "execution_count": 25,
   "metadata": {},
   "outputs": [],
   "source": [
    "from keras.datasets import mnist\n",
    "from keras.models import Sequential\n",
    "from keras.layers import Dense\n",
    "from keras.optimizers import SGD\n",
    "import numpy as np\n",
    "import matplotlib.pyplot as plt\n",
    "%matplotlib inline\n",
    "\n",
    "# Added in to set a seed for reproducibility.  This is not required for building a DNN in Keras!\n",
    "np.random.seed(42)"
   ]
  },
  {
   "cell_type": "markdown",
   "metadata": {},
   "source": [
    "<center><h2>Reshaping and Preparing our Data Set</h2></center>\n",
    "\n",
    "We'll start by loading in our data set using the mnist object's `.load_data()` method.  We'll store all the data and labels that this method returns two tuples--one containing our training data and labels, and one containing our testing data and labels.  \n",
    "\n",
    "Run the cell below to import our data and labels.  Next, run the cell below that to take a look at the shape of our data."
   ]
  },
  {
   "cell_type": "code",
   "execution_count": 21,
   "metadata": {},
   "outputs": [],
   "source": [
    "(X_train, y_train), (X_test, y_test) = mnist.load_data()"
   ]
  },
  {
   "cell_type": "code",
   "execution_count": 28,
   "metadata": {},
   "outputs": [
    {
     "name": "stdout",
     "output_type": "stream",
     "text": [
      "(60000, 28, 28)\n",
      "(60000,)\n"
     ]
    }
   ],
   "source": [
    "print(X_train.shape)\n",
    "print(y_train.shape)"
   ]
  },
  {
   "cell_type": "markdown",
   "metadata": {},
   "source": [
    "Given what we know about the shape of our input data, these look exactly like what we'd expect.  Our X_train vector is made up of 60,000 28 x 28 arrays, and our y_train array is made up of an array of 60,000 numbers, which makes sense, since they are just labels corresponding the images found in the X_train array.  \n",
    "\n",
    "Let's take a closer look at our data and see what it actually contains.  Run the following line to print out the first item from `X_train`."
   ]
  },
  {
   "cell_type": "code",
   "execution_count": 30,
   "metadata": {},
   "outputs": [
    {
     "name": "stdout",
     "output_type": "stream",
     "text": [
      "[[  0   0   0   0   0   0   0   0   0   0   0   0   0   0   0   0   0   0\n",
      "    0   0   0   0   0   0   0   0   0   0]\n",
      " [  0   0   0   0   0   0   0   0   0   0   0   0   0   0   0   0   0   0\n",
      "    0   0   0   0   0   0   0   0   0   0]\n",
      " [  0   0   0   0   0   0   0   0   0   0   0   0   0   0   0   0   0   0\n",
      "    0   0   0   0   0   0   0   0   0   0]\n",
      " [  0   0   0   0   0   0   0   0   0   0   0   0   0   0   0   0   0   0\n",
      "    0   0   0   0   0   0   0   0   0   0]\n",
      " [  0   0   0   0   0   0   0   0   0   0   0   0   0   0   0   0   0   0\n",
      "    0   0   0   0   0   0   0   0   0   0]\n",
      " [  0   0   0   0   0   0   0   0   0   0   0   0   3  18  18  18 126 136\n",
      "  175  26 166 255 247 127   0   0   0   0]\n",
      " [  0   0   0   0   0   0   0   0  30  36  94 154 170 253 253 253 253 253\n",
      "  225 172 253 242 195  64   0   0   0   0]\n",
      " [  0   0   0   0   0   0   0  49 238 253 253 253 253 253 253 253 253 251\n",
      "   93  82  82  56  39   0   0   0   0   0]\n",
      " [  0   0   0   0   0   0   0  18 219 253 253 253 253 253 198 182 247 241\n",
      "    0   0   0   0   0   0   0   0   0   0]\n",
      " [  0   0   0   0   0   0   0   0  80 156 107 253 253 205  11   0  43 154\n",
      "    0   0   0   0   0   0   0   0   0   0]\n",
      " [  0   0   0   0   0   0   0   0   0  14   1 154 253  90   0   0   0   0\n",
      "    0   0   0   0   0   0   0   0   0   0]\n",
      " [  0   0   0   0   0   0   0   0   0   0   0 139 253 190   2   0   0   0\n",
      "    0   0   0   0   0   0   0   0   0   0]\n",
      " [  0   0   0   0   0   0   0   0   0   0   0  11 190 253  70   0   0   0\n",
      "    0   0   0   0   0   0   0   0   0   0]\n",
      " [  0   0   0   0   0   0   0   0   0   0   0   0  35 241 225 160 108   1\n",
      "    0   0   0   0   0   0   0   0   0   0]\n",
      " [  0   0   0   0   0   0   0   0   0   0   0   0   0  81 240 253 253 119\n",
      "   25   0   0   0   0   0   0   0   0   0]\n",
      " [  0   0   0   0   0   0   0   0   0   0   0   0   0   0  45 186 253 253\n",
      "  150  27   0   0   0   0   0   0   0   0]\n",
      " [  0   0   0   0   0   0   0   0   0   0   0   0   0   0   0  16  93 252\n",
      "  253 187   0   0   0   0   0   0   0   0]\n",
      " [  0   0   0   0   0   0   0   0   0   0   0   0   0   0   0   0   0 249\n",
      "  253 249  64   0   0   0   0   0   0   0]\n",
      " [  0   0   0   0   0   0   0   0   0   0   0   0   0   0  46 130 183 253\n",
      "  253 207   2   0   0   0   0   0   0   0]\n",
      " [  0   0   0   0   0   0   0   0   0   0   0   0  39 148 229 253 253 253\n",
      "  250 182   0   0   0   0   0   0   0   0]\n",
      " [  0   0   0   0   0   0   0   0   0   0  24 114 221 253 253 253 253 201\n",
      "   78   0   0   0   0   0   0   0   0   0]\n",
      " [  0   0   0   0   0   0   0   0  23  66 213 253 253 253 253 198  81   2\n",
      "    0   0   0   0   0   0   0   0   0   0]\n",
      " [  0   0   0   0   0   0  18 171 219 253 253 253 253 195  80   9   0   0\n",
      "    0   0   0   0   0   0   0   0   0   0]\n",
      " [  0   0   0   0  55 172 226 253 253 253 253 244 133  11   0   0   0   0\n",
      "    0   0   0   0   0   0   0   0   0   0]\n",
      " [  0   0   0   0 136 253 253 253 212 135 132  16   0   0   0   0   0   0\n",
      "    0   0   0   0   0   0   0   0   0   0]\n",
      " [  0   0   0   0   0   0   0   0   0   0   0   0   0   0   0   0   0   0\n",
      "    0   0   0   0   0   0   0   0   0   0]\n",
      " [  0   0   0   0   0   0   0   0   0   0   0   0   0   0   0   0   0   0\n",
      "    0   0   0   0   0   0   0   0   0   0]\n",
      " [  0   0   0   0   0   0   0   0   0   0   0   0   0   0   0   0   0   0\n",
      "    0   0   0   0   0   0   0   0   0   0]]\n"
     ]
    }
   ],
   "source": [
    "print(X_train[0])"
   ]
  },
  {
   "cell_type": "markdown",
   "metadata": {},
   "source": [
    "Interesting! Each number corresponds to a pixel in the 28 x 28 image.  These numbers range from 0 to 255, with 0 being the color black and 255 being the color white.  Note that we can almost discern the shape of the number just by looking at the shape the non-zero numbers make in the printed array.  Can you guess what number we're looking at?\n",
    "\n",
    "Run the cell below to see actual image, as well as the corresponding label from `y_train`."
   ]
  },
  {
   "cell_type": "code",
   "execution_count": 31,
   "metadata": {},
   "outputs": [
    {
     "name": "stdout",
     "output_type": "stream",
     "text": [
      "5\n"
     ]
    },
    {
     "data": {
      "image/png": "[encoded data removed]",
      "text/plain": [
       "<matplotlib.figure.Figure at 0x12b066ac8>"
      ]
     },
     "metadata": {},
     "output_type": "display_data"
    }
   ],
   "source": [
    "plt.imshow(X_train[0])\n",
    "print(y_train[0])"
   ]
  },
  {
   "cell_type": "code",
   "execution_count": 7,
   "metadata": {},
   "outputs": [],
   "source": [
    "X_train = X_train.reshape(60000, 784).astype('float32')\n",
    "X_test = X_test.reshape(10000, 784).astype('float32')"
   ]
  },
  {
   "cell_type": "code",
   "execution_count": 8,
   "metadata": {},
   "outputs": [],
   "source": [
    "X_train /= 255.\n",
    "X_test /= 255."
   ]
  },
  {
   "cell_type": "code",
   "execution_count": 9,
   "metadata": {},
   "outputs": [],
   "source": [
    "num_classes = 10\n",
    "y_train = keras.utils.to_categorical(y_train, num_classes)\n",
    "y_test = keras.utils.to_categorical(y_test, num_classes)"
   ]
  },
  {
   "cell_type": "code",
   "execution_count": 10,
   "metadata": {},
   "outputs": [
    {
     "data": {
      "text/plain": [
       "array([ 0.,  0.,  0.,  0.,  0.,  1.,  0.,  0.,  0.,  0.])"
      ]
     },
     "execution_count": 10,
     "metadata": {},
     "output_type": "execute_result"
    }
   ],
   "source": [
    "y_train[0]"
   ]
  },
  {
   "cell_type": "code",
   "execution_count": 11,
   "metadata": {},
   "outputs": [],
   "source": [
    "model = Sequential()\n",
    "model.add(Dense((64), activation=\"sigmoid\", input_shape=(784,)))\n",
    "model.add(Dense((10), activation='softmax'))"
   ]
  },
  {
   "cell_type": "code",
   "execution_count": 12,
   "metadata": {},
   "outputs": [
    {
     "name": "stdout",
     "output_type": "stream",
     "text": [
      "_________________________________________________________________\n",
      "Layer (type)                 Output Shape              Param #   \n",
      "=================================================================\n",
      "dense_1 (Dense)              (None, 64)                50240     \n",
      "_________________________________________________________________\n",
      "dense_2 (Dense)              (None, 10)                650       \n",
      "=================================================================\n",
      "Total params: 50,890\n",
      "Trainable params: 50,890\n",
      "Non-trainable params: 0\n",
      "_________________________________________________________________\n"
     ]
    }
   ],
   "source": [
    "model.summary()"
   ]
  },
  {
   "cell_type": "code",
   "execution_count": 13,
   "metadata": {},
   "outputs": [],
   "source": [
    "model.compile(loss='mean_squared_error', optimizer=Adam(), metrics=['accuracy'])"
   ]
  },
  {
   "cell_type": "code",
   "execution_count": 14,
   "metadata": {},
   "outputs": [
    {
     "name": "stdout",
     "output_type": "stream",
     "text": [
      "Train on 60000 samples, validate on 10000 samples\n",
      "Epoch 1/10\n",
      "60000/60000 [==============================] - 1s - loss: 0.0287 - acc: 0.8377 - val_loss: 0.0142 - val_acc: 0.9141\n",
      "Epoch 2/10\n",
      "60000/60000 [==============================] - 1s - loss: 0.0128 - acc: 0.9228 - val_loss: 0.0110 - val_acc: 0.9337\n",
      "Epoch 3/10\n",
      "60000/60000 [==============================] - 1s - loss: 0.0104 - acc: 0.9368 - val_loss: 0.0094 - val_acc: 0.9410\n",
      "Epoch 4/10\n",
      "60000/60000 [==============================] - 1s - loss: 0.0089 - acc: 0.9463 - val_loss: 0.0084 - val_acc: 0.9469\n",
      "Epoch 5/10\n",
      "60000/60000 [==============================] - 1s - loss: 0.0079 - acc: 0.9527 - val_loss: 0.0077 - val_acc: 0.9519\n",
      "Epoch 6/10\n",
      "60000/60000 [==============================] - 1s - loss: 0.0071 - acc: 0.9570 - val_loss: 0.0071 - val_acc: 0.9550\n",
      "Epoch 7/10\n",
      "60000/60000 [==============================] - 1s - loss: 0.0064 - acc: 0.9617 - val_loss: 0.0068 - val_acc: 0.9566\n",
      "Epoch 8/10\n",
      "60000/60000 [==============================] - 1s - loss: 0.0059 - acc: 0.9648 - val_loss: 0.0063 - val_acc: 0.9602\n",
      "Epoch 9/10\n",
      "60000/60000 [==============================] - 1s - loss: 0.0055 - acc: 0.9675 - val_loss: 0.0060 - val_acc: 0.9614\n",
      "Epoch 10/10\n",
      "60000/60000 [==============================] - 1s - loss: 0.0051 - acc: 0.9704 - val_loss: 0.0057 - val_acc: 0.9640\n"
     ]
    },
    {
     "data": {
      "text/plain": [
       "<keras.callbacks.History at 0x134107908>"
      ]
     },
     "execution_count": 14,
     "metadata": {},
     "output_type": "execute_result"
    }
   ],
   "source": [
    "model.fit(X_train, y_train, batch_size=128, epochs=10, verbose=1, validation_data=(X_test, y_test))"
   ]
  },
  {
   "cell_type": "code",
   "execution_count": null,
   "metadata": {
    "collapsed": true
   },
   "outputs": [],
   "source": []
  }
 ],
 "metadata": {
  "anaconda-cloud": {},
  "kernelspec": {
   "display_name": "Python [conda env:MS-ML-P3]",
   "language": "python",
   "name": "conda-env-MS-ML-P3-py"
  },
  "language_info": {
   "codemirror_mode": {
    "name": "ipython",
    "version": 3
   },
   "file_extension": ".py",
   "mimetype": "text/x-python",
   "name": "python",
   "nbconvert_exporter": "python",
   "pygments_lexer": "ipython3",
   "version": "3.5.2"
  }
 },
 "nbformat": 4,
 "nbformat_minor": 2
}
